{
 "cells": [
  {
   "cell_type": "markdown",
   "id": "decac895",
   "metadata": {},
   "source": [
    "# A collection of various horizontal interpolation (or projection or regridding) methods\n",
    "## Created by Ehsan Erfani"
   ]
  },
  {
   "cell_type": "code",
   "execution_count": 2,
   "id": "a95fc7e4",
   "metadata": {},
   "outputs": [],
   "source": [
    "from scipy import interpolate\n",
    "from scipy.interpolate import griddata\n",
    "from scipy.interpolate import NearestNDInterpolator\n",
    "import pyresample\n",
    "\n",
    "\n",
    "import numpy as np\n",
    "import os, glob\n",
    "import pandas as pd\n",
    "import cartopy.crs as ccrs\n",
    "import cartopy.feature as cfeature\n",
    "from mpl_toolkits.axes_grid1 import make_axes_locatable\n",
    "import sys\n",
    "import matplotlib.pyplot as plt\n",
    "from matplotlib.colors import ListedColormap\n",
    "import datetime\n",
    "from datetime import timedelta\n",
    "import seaborn as sb\n",
    "from netCDF4 import Dataset\n",
    "from datetime import date, timedelta\n",
    "\n",
    "import warnings\n",
    "warnings.filterwarnings(\"ignore\")\n"
   ]
  },
  {
   "cell_type": "markdown",
   "id": "5eee680f",
   "metadata": {},
   "source": [
    "## Part1: Regular and/or structured grid:\n",
    "- When the grid is rectangular: lat_orig(x), lon_orig(y), var(x,y), lat_target(x), lon_target(y)\n",
    "- Since the data is structured, this method is relatively fast.\n",
    "- Technically this method can be used for unstructured grid, but you have to use brute force and do it for each grid point separaretly, so it takes a long time."
   ]
  },
  {
   "cell_type": "markdown",
   "id": "fb084824",
   "metadata": {},
   "source": [
    "### interp2d"
   ]
  },
  {
   "cell_type": "code",
   "execution_count": null,
   "id": "3ef5810b",
   "metadata": {},
   "outputs": [],
   "source": [
    "f = interpolate.interp2d(lat_orig, lon_orig, np.transpose(var), kind='linear') # Two other methods: nearest and cubic\n",
    "var_intrp = np.transpose(f(lat_target, lon_target))[0]  "
   ]
  },
  {
   "cell_type": "markdown",
   "id": "3b64a1c2",
   "metadata": {},
   "source": [
    "### RectBivariateSpline"
   ]
  },
  {
   "cell_type": "code",
   "execution_count": null,
   "id": "f3a73644",
   "metadata": {},
   "outputs": [],
   "source": [
    "f = interpolate.RectBivariateSpline(lat_orig, lon_orig, np.transpose(var))\n",
    "var_intrp = np.transpose(f(lat_target, lon_target))[0]  "
   ]
  },
  {
   "cell_type": "markdown",
   "id": "96531743",
   "metadata": {},
   "source": [
    "## Part2: Irregular and/or unstructured grid:\n",
    "- When the grid is not rectangular: lat_orig(x,y), lon_orig(x,y), var(x,y), lat_target(x,y), lon_target(x,y)"
   ]
  },
  {
   "cell_type": "markdown",
   "id": "9cd5b88e",
   "metadata": {},
   "source": [
    "### griddata\n",
    "- This method is slow for large data\n",
    "- Probabely, you need to created meshgrid of original grid before interpolation"
   ]
  },
  {
   "cell_type": "code",
   "execution_count": null,
   "id": "3976b8c6",
   "metadata": {},
   "outputs": [],
   "source": [
    "## Most of the time, you need to do flattening or reshaping first:\n",
    "var_intrp = griddata((np.reshape(lat_orig_msh,-1), np.reshape(lon_orig_msh,-1)), np.reshape(var,-1),\\\n",
    "                     (lat_target, lon_target), method='linear') \n",
    "\n",
    "## Another similar way:\n",
    "var_intrp = griddata( lat_orig_msh.flatten(), lon_orig_msh.flatten(), var.flatten(), lat_target.flatten(), lon_target.flatten() )"
   ]
  },
  {
   "cell_type": "markdown",
   "id": "a5c7ae64",
   "metadata": {},
   "source": [
    "### NearestNDInterpolator\n",
    "- This method is a bit slower than griddata for me."
   ]
  },
  {
   "cell_type": "code",
   "execution_count": null,
   "id": "1dd49532",
   "metadata": {},
   "outputs": [],
   "source": [
    "f = NearestNDInterpolator((np.reshape(lat_orig_msh,-1), np.reshape(lon_orig_msh,-1)), np.reshape(var,-1)) \n",
    "\n",
    "var_intrp = f(lat_target, lon_target)"
   ]
  },
  {
   "cell_type": "markdown",
   "id": "887172ca",
   "metadata": {},
   "source": [
    "### Rbf   and   RBFInterpolator\n",
    "- These methods seem to be superior to griddata, but they are much slower for large datasets."
   ]
  },
  {
   "cell_type": "markdown",
   "id": "d4cbc930",
   "metadata": {},
   "source": [
    "## pyresample\n",
    "- This package does the interpolation based on kd tree. \n",
    "- Online resources mentioned that this is faster than scipy kd tree, but it is sill slower than griddata for me.\n",
    "- There are three methods here and they are sorted from fast to slow:"
   ]
  },
  {
   "cell_type": "code",
   "execution_count": null,
   "id": "24d82c04",
   "metadata": {},
   "outputs": [],
   "source": [
    "### Preparing grids:\n",
    "orig_def = pyresample.geometry.SwathDefinition(lons=lon_orig_msh, lats=lat_orig_msh)\n",
    "targ_def = pyresample.geometry.SwathDefinition(lons=lon_target, lats=lat_target)\n",
    "\n",
    "### weight function:\n",
    "wf = lambda r: 1/r**2\n",
    "\n",
    "### 3 methods:\n",
    "### Nearest neighbor:\n",
    "grid_z0 = pyresample.kd_tree.resample_nearest(orig_def, var, \\\n",
    "              targ_def, radius_of_influence=500000, fill_value=None)\n",
    "\n",
    "### IDW of square distance:\n",
    "grid_z0 = pyresample.kd_tree.resample_custom(orig_def, var, \\\n",
    "              targ_def,  radius_of_influence=500000, weight_funcs=wf, neighbours=10, fill_value=None)\n",
    "\n",
    "### Gauss-shape of distance:\n",
    "grid_z0 = pyresample.kd_tree.resample_gauss(orig_def, var, \\\n",
    "              targ_def,  radius_of_influence=500000, sigmas=250000, neighbours=10, fill_value=None)"
   ]
  },
  {
   "cell_type": "markdown",
   "id": "cd1d15cd",
   "metadata": {},
   "source": [
    "## The fastest method: modified griddata:\n",
    "- If you need to use griddata multiple times between two fixed grids, there is a trick to speed up the process!\n",
    "- The first step is to calculate the vertices and weights between the original and target grids (first function below). You need to do this relatively timely process only once.\n",
    "- The second step is to do the interpolation process (second function below) which is now much faster!"
   ]
  },
  {
   "cell_type": "code",
   "execution_count": null,
   "id": "93fd3a6d",
   "metadata": {},
   "outputs": [],
   "source": [
    "import scipy.interpolate as spint\n",
    "import scipy.spatial.qhull as qhull\n",
    "import itertools\n",
    "\n",
    "n, d = 3e3, 2  # d can be 2 or 3 depending on the dimension\n",
    "\n",
    "def interp_weights(xyz, uvw):\n",
    "    tri = qhull.Delaunay(xyz)\n",
    "    simplex = tri.find_simplex(uvw)\n",
    "    vertices = np.take(tri.simplices, simplex, axis=0)\n",
    "    temp = np.take(tri.transform, simplex, axis=0)\n",
    "    delta = uvw - temp[:, d]\n",
    "    bary = np.einsum('njk,nk->nj', temp[:, :d, :], delta)\n",
    "    return vertices, np.hstack((bary, 1 - bary.sum(axis=1, keepdims=True)))\n",
    "\n",
    "# def interpolate(values, vtx, wts):\n",
    "#     return np.einsum('nj,nj->n', np.take(values, vtx), wts)\n",
    "\n",
    "def interpolate(values, vtx, wts, fill_value=np.nan):\n",
    "    ret = np.einsum('nj,nj->n', np.take(values, vtx), wts)\n",
    "    ret[np.any(wts < 0, axis=1)] = fill_value\n",
    "    return ret"
   ]
  },
  {
   "cell_type": "code",
   "execution_count": null,
   "id": "1bd8f90d",
   "metadata": {},
   "outputs": [],
   "source": [
    "### Original grid:\n",
    "xyz = np.array(np.vstack((np.reshape(lat_orig_msh,-1), np.reshape(lon_orig_msh,-1)))).T\n",
    "\n",
    "### Target grid:\n",
    "uvw = np.vstack((np.reshape(lat_target,-1), np.reshape(lon_target,-1))).T\n",
    "\n",
    "f   = np.reshape(var,-1)\n",
    "vtx, wts = interp_weights(xyz, uvw)\n",
    "\n",
    "tmp = interpolate(f, vtx, wts, fill_value=np.nan)\n",
    "var_intrp = test.reshape(lat_target.shape[0], lat_target.shape[1])"
   ]
  },
  {
   "cell_type": "markdown",
   "id": "99b5ab6d",
   "metadata": {},
   "source": [
    "### Resources:\n",
    "- https://stackoverflow.com/questions/20915502/speedup-scipy-griddata-for-multiple-interpolations-between-two-irregular-grids\n",
    "- https://stackoverflow.com/questions/37872171/how-can-i-perform-two-dimensional-interpolation-using-scipy\n",
    "- http://earthpy.org/interpolation_between_grids_with_pyresample.html"
   ]
  }
 ],
 "metadata": {
  "kernelspec": {
   "display_name": "Python 3",
   "language": "python",
   "name": "python3"
  },
  "language_info": {
   "codemirror_mode": {
    "name": "ipython",
    "version": 3
   },
   "file_extension": ".py",
   "mimetype": "text/x-python",
   "name": "python",
   "nbconvert_exporter": "python",
   "pygments_lexer": "ipython3",
   "version": "3.8.8"
  }
 },
 "nbformat": 4,
 "nbformat_minor": 5
}
